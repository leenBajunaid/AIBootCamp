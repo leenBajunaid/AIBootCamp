{
  "cells": [
    {
      "cell_type": "markdown",
      "metadata": {
        "id": "UzHyRaT8to7B"
      },
      "source": [
        "# Phishing Email Detection – Training and Testing Guide\n",
        "This guide explains how to train and test a simple but powerful Phishing Email Detection Model using Kaggle datasets and Google Colab.\n",
        "It walks through each step — from dataset download to real-time testing on your own email text.\n",
        "\n",
        "## Step 1: Setup and Get Data\n",
        "We start by:\n",
        "1. Installing required Python packages.\n",
        "2. Uploading the kaggle.json API token.\n",
        "3. Downloading a phishing email dataset from Kaggle.\n",
        "4. Loading and preparing the data.\n",
        "\n",
        "### Install Required Packages"
      ]
    },
    {
      "cell_type": "code",
      "execution_count": 1,
      "metadata": {
        "id": "xHdKmsq4tkjf"
      },
      "outputs": [],
      "source": [
        "!pip -q install kaggle scikit-learn pandas joblib"
      ]
    },
    {
      "cell_type": "markdown",
      "metadata": {
        "id": "clc68HvRzaMy"
      },
      "source": [
        "#### Explanation\n",
        "- `kaggle`: Access Kaggle datasets programmatically.\n",
        "- `scikit-learn`: Machine learning toolkit for training the model.\n",
        "- `pandas`: Data handling and cleaning.\n",
        "- `joblib`: For model saving/loading (optional later).\n",
        "\n",
        "--------\n",
        "### Upload your kaggle.json API Token\n",
        "This authenticates your access to Kaggle datasets."
      ]
    },
    {
      "cell_type": "code",
      "execution_count": 2,
      "metadata": {
        "id": "chrlwqDyz95X",
        "colab": {
          "base_uri": "https://localhost:8080/",
          "height": 69
        },
        "outputId": "2f0ca271-21b4-42c7-9ca6-b714c5fec4aa"
      },
      "outputs": [
        {
          "output_type": "display_data",
          "data": {
            "text/plain": [
              "<IPython.core.display.HTML object>"
            ],
            "text/html": [
              "\n",
              "     <input type=\"file\" id=\"files-79114e12-4ab0-4fe0-b860-d5fd00fcad7a\" name=\"files[]\" multiple disabled\n",
              "        style=\"border:none\" />\n",
              "     <output id=\"result-79114e12-4ab0-4fe0-b860-d5fd00fcad7a\">\n",
              "      Upload widget is only available when the cell has been executed in the\n",
              "      current browser session. Please rerun this cell to enable.\n",
              "      </output>\n",
              "      <script>// Copyright 2017 Google LLC\n",
              "//\n",
              "// Licensed under the Apache License, Version 2.0 (the \"License\");\n",
              "// you may not use this file except in compliance with the License.\n",
              "// You may obtain a copy of the License at\n",
              "//\n",
              "//      http://www.apache.org/licenses/LICENSE-2.0\n",
              "//\n",
              "// Unless required by applicable law or agreed to in writing, software\n",
              "// distributed under the License is distributed on an \"AS IS\" BASIS,\n",
              "// WITHOUT WARRANTIES OR CONDITIONS OF ANY KIND, either express or implied.\n",
              "// See the License for the specific language governing permissions and\n",
              "// limitations under the License.\n",
              "\n",
              "/**\n",
              " * @fileoverview Helpers for google.colab Python module.\n",
              " */\n",
              "(function(scope) {\n",
              "function span(text, styleAttributes = {}) {\n",
              "  const element = document.createElement('span');\n",
              "  element.textContent = text;\n",
              "  for (const key of Object.keys(styleAttributes)) {\n",
              "    element.style[key] = styleAttributes[key];\n",
              "  }\n",
              "  return element;\n",
              "}\n",
              "\n",
              "// Max number of bytes which will be uploaded at a time.\n",
              "const MAX_PAYLOAD_SIZE = 100 * 1024;\n",
              "\n",
              "function _uploadFiles(inputId, outputId) {\n",
              "  const steps = uploadFilesStep(inputId, outputId);\n",
              "  const outputElement = document.getElementById(outputId);\n",
              "  // Cache steps on the outputElement to make it available for the next call\n",
              "  // to uploadFilesContinue from Python.\n",
              "  outputElement.steps = steps;\n",
              "\n",
              "  return _uploadFilesContinue(outputId);\n",
              "}\n",
              "\n",
              "// This is roughly an async generator (not supported in the browser yet),\n",
              "// where there are multiple asynchronous steps and the Python side is going\n",
              "// to poll for completion of each step.\n",
              "// This uses a Promise to block the python side on completion of each step,\n",
              "// then passes the result of the previous step as the input to the next step.\n",
              "function _uploadFilesContinue(outputId) {\n",
              "  const outputElement = document.getElementById(outputId);\n",
              "  const steps = outputElement.steps;\n",
              "\n",
              "  const next = steps.next(outputElement.lastPromiseValue);\n",
              "  return Promise.resolve(next.value.promise).then((value) => {\n",
              "    // Cache the last promise value to make it available to the next\n",
              "    // step of the generator.\n",
              "    outputElement.lastPromiseValue = value;\n",
              "    return next.value.response;\n",
              "  });\n",
              "}\n",
              "\n",
              "/**\n",
              " * Generator function which is called between each async step of the upload\n",
              " * process.\n",
              " * @param {string} inputId Element ID of the input file picker element.\n",
              " * @param {string} outputId Element ID of the output display.\n",
              " * @return {!Iterable<!Object>} Iterable of next steps.\n",
              " */\n",
              "function* uploadFilesStep(inputId, outputId) {\n",
              "  const inputElement = document.getElementById(inputId);\n",
              "  inputElement.disabled = false;\n",
              "\n",
              "  const outputElement = document.getElementById(outputId);\n",
              "  outputElement.innerHTML = '';\n",
              "\n",
              "  const pickedPromise = new Promise((resolve) => {\n",
              "    inputElement.addEventListener('change', (e) => {\n",
              "      resolve(e.target.files);\n",
              "    });\n",
              "  });\n",
              "\n",
              "  const cancel = document.createElement('button');\n",
              "  inputElement.parentElement.appendChild(cancel);\n",
              "  cancel.textContent = 'Cancel upload';\n",
              "  const cancelPromise = new Promise((resolve) => {\n",
              "    cancel.onclick = () => {\n",
              "      resolve(null);\n",
              "    };\n",
              "  });\n",
              "\n",
              "  // Wait for the user to pick the files.\n",
              "  const files = yield {\n",
              "    promise: Promise.race([pickedPromise, cancelPromise]),\n",
              "    response: {\n",
              "      action: 'starting',\n",
              "    }\n",
              "  };\n",
              "\n",
              "  cancel.remove();\n",
              "\n",
              "  // Disable the input element since further picks are not allowed.\n",
              "  inputElement.disabled = true;\n",
              "\n",
              "  if (!files) {\n",
              "    return {\n",
              "      response: {\n",
              "        action: 'complete',\n",
              "      }\n",
              "    };\n",
              "  }\n",
              "\n",
              "  for (const file of files) {\n",
              "    const li = document.createElement('li');\n",
              "    li.append(span(file.name, {fontWeight: 'bold'}));\n",
              "    li.append(span(\n",
              "        `(${file.type || 'n/a'}) - ${file.size} bytes, ` +\n",
              "        `last modified: ${\n",
              "            file.lastModifiedDate ? file.lastModifiedDate.toLocaleDateString() :\n",
              "                                    'n/a'} - `));\n",
              "    const percent = span('0% done');\n",
              "    li.appendChild(percent);\n",
              "\n",
              "    outputElement.appendChild(li);\n",
              "\n",
              "    const fileDataPromise = new Promise((resolve) => {\n",
              "      const reader = new FileReader();\n",
              "      reader.onload = (e) => {\n",
              "        resolve(e.target.result);\n",
              "      };\n",
              "      reader.readAsArrayBuffer(file);\n",
              "    });\n",
              "    // Wait for the data to be ready.\n",
              "    let fileData = yield {\n",
              "      promise: fileDataPromise,\n",
              "      response: {\n",
              "        action: 'continue',\n",
              "      }\n",
              "    };\n",
              "\n",
              "    // Use a chunked sending to avoid message size limits. See b/62115660.\n",
              "    let position = 0;\n",
              "    do {\n",
              "      const length = Math.min(fileData.byteLength - position, MAX_PAYLOAD_SIZE);\n",
              "      const chunk = new Uint8Array(fileData, position, length);\n",
              "      position += length;\n",
              "\n",
              "      const base64 = btoa(String.fromCharCode.apply(null, chunk));\n",
              "      yield {\n",
              "        response: {\n",
              "          action: 'append',\n",
              "          file: file.name,\n",
              "          data: base64,\n",
              "        },\n",
              "      };\n",
              "\n",
              "      let percentDone = fileData.byteLength === 0 ?\n",
              "          100 :\n",
              "          Math.round((position / fileData.byteLength) * 100);\n",
              "      percent.textContent = `${percentDone}% done`;\n",
              "\n",
              "    } while (position < fileData.byteLength);\n",
              "  }\n",
              "\n",
              "  // All done.\n",
              "  yield {\n",
              "    response: {\n",
              "      action: 'complete',\n",
              "    }\n",
              "  };\n",
              "}\n",
              "\n",
              "scope.google = scope.google || {};\n",
              "scope.google.colab = scope.google.colab || {};\n",
              "scope.google.colab._files = {\n",
              "  _uploadFiles,\n",
              "  _uploadFilesContinue,\n",
              "};\n",
              "})(self);\n",
              "</script> "
            ]
          },
          "metadata": {}
        },
        {
          "output_type": "stream",
          "name": "stdout",
          "text": [
            "Saving kaggle.json to kaggle.json\n"
          ]
        }
      ],
      "source": [
        "from google.colab import files, os\n",
        "os.makedirs(os.path.expanduser(\"~/.kaggle\"), exist_ok=True)\n",
        "uploaded = files.upload()\n",
        "\n",
        "with open(os.path.expanduser(\"~/.kaggle/kaggle.json\"), \"wb\") as f:\n",
        "    f.write(uploaded['kaggle.json'])\n",
        "os.chmod(os.path.expanduser(\"~/.kaggle/kaggle.json\"), 0o600)"
      ]
    },
    {
      "cell_type": "markdown",
      "metadata": {
        "id": "gVxM0GSPz_uW"
      },
      "source": [
        "#### Explanation\n",
        "\n",
        "- You’ll be prompted to upload your Kaggle API key file (kaggle.json).\n",
        "- This file is downloaded from your Kaggle account under:\n",
        "\n",
        "    **Profile → Account → Create New API Token.**\n",
        "\n",
        "- The code creates the ~/.kaggle directory and sets correct file permissions for secure access."
      ]
    },
    {
      "cell_type": "markdown",
      "metadata": {
        "id": "50kEs_zx0YR5"
      },
      "source": [
        "## Download the Dataset"
      ]
    },
    {
      "cell_type": "code",
      "execution_count": 3,
      "metadata": {
        "id": "CiIC5cER0aAh",
        "colab": {
          "base_uri": "https://localhost:8080/"
        },
        "outputId": "fa5b31a8-dbb1-40e8-a21d-47ca627e96c1"
      },
      "outputs": [
        {
          "output_type": "stream",
          "name": "stdout",
          "text": [
            "Dataset URL: https://www.kaggle.com/datasets/naserabdullahalam/phishing-email-dataset\n",
            "License(s): CC-BY-SA-4.0\n"
          ]
        }
      ],
      "source": [
        "!kaggle datasets download -d naserabdullahalam/phishing-email-dataset -p /content -q\n",
        "!unzip -qq /content/*.zip -d /content/data"
      ]
    },
    {
      "cell_type": "markdown",
      "metadata": {
        "id": "iIdqvv700eWA"
      },
      "source": [
        "#### Explanation\n",
        "- Downloads a public Phishing Email dataset from Kaggle.\n",
        "- Extracts it into /content/data for use in Colab.\n",
        "\n",
        "## Load and Inspect the Dataset"
      ]
    },
    {
      "cell_type": "code",
      "execution_count": 4,
      "metadata": {
        "id": "JsJsJAo60jlC",
        "colab": {
          "base_uri": "https://localhost:8080/",
          "height": 159
        },
        "outputId": "10d1b218-def0-4b82-9bf5-f437712b2d7d"
      },
      "outputs": [
        {
          "output_type": "stream",
          "name": "stdout",
          "text": [
            "✅ Loaded 29569 emails\n"
          ]
        },
        {
          "output_type": "execute_result",
          "data": {
            "text/plain": [
              "                                                text  label\n",
              "0  ( see attached file : hplno 525 . xls )\\r\\n- h...      0\n",
              "1  - - - - - - - - - - - - - - - - - - - - - - fo...      0\n",
              "2  estimated actuals\\r\\nmarch 30 , 2001\\r\\nno flo...      0"
            ],
            "text/html": [
              "\n",
              "  <div id=\"df-dc390283-6bdd-4ee7-848d-f1642baeccf2\" class=\"colab-df-container\">\n",
              "    <div>\n",
              "<style scoped>\n",
              "    .dataframe tbody tr th:only-of-type {\n",
              "        vertical-align: middle;\n",
              "    }\n",
              "\n",
              "    .dataframe tbody tr th {\n",
              "        vertical-align: top;\n",
              "    }\n",
              "\n",
              "    .dataframe thead th {\n",
              "        text-align: right;\n",
              "    }\n",
              "</style>\n",
              "<table border=\"1\" class=\"dataframe\">\n",
              "  <thead>\n",
              "    <tr style=\"text-align: right;\">\n",
              "      <th></th>\n",
              "      <th>text</th>\n",
              "      <th>label</th>\n",
              "    </tr>\n",
              "  </thead>\n",
              "  <tbody>\n",
              "    <tr>\n",
              "      <th>0</th>\n",
              "      <td>( see attached file : hplno 525 . xls )\\r\\n- h...</td>\n",
              "      <td>0</td>\n",
              "    </tr>\n",
              "    <tr>\n",
              "      <th>1</th>\n",
              "      <td>- - - - - - - - - - - - - - - - - - - - - - fo...</td>\n",
              "      <td>0</td>\n",
              "    </tr>\n",
              "    <tr>\n",
              "      <th>2</th>\n",
              "      <td>estimated actuals\\r\\nmarch 30 , 2001\\r\\nno flo...</td>\n",
              "      <td>0</td>\n",
              "    </tr>\n",
              "  </tbody>\n",
              "</table>\n",
              "</div>\n",
              "    <div class=\"colab-df-buttons\">\n",
              "\n",
              "  <div class=\"colab-df-container\">\n",
              "    <button class=\"colab-df-convert\" onclick=\"convertToInteractive('df-dc390283-6bdd-4ee7-848d-f1642baeccf2')\"\n",
              "            title=\"Convert this dataframe to an interactive table.\"\n",
              "            style=\"display:none;\">\n",
              "\n",
              "  <svg xmlns=\"http://www.w3.org/2000/svg\" height=\"24px\" viewBox=\"0 -960 960 960\">\n",
              "    <path d=\"M120-120v-720h720v720H120Zm60-500h600v-160H180v160Zm220 220h160v-160H400v160Zm0 220h160v-160H400v160ZM180-400h160v-160H180v160Zm440 0h160v-160H620v160ZM180-180h160v-160H180v160Zm440 0h160v-160H620v160Z\"/>\n",
              "  </svg>\n",
              "    </button>\n",
              "\n",
              "  <style>\n",
              "    .colab-df-container {\n",
              "      display:flex;\n",
              "      gap: 12px;\n",
              "    }\n",
              "\n",
              "    .colab-df-convert {\n",
              "      background-color: #E8F0FE;\n",
              "      border: none;\n",
              "      border-radius: 50%;\n",
              "      cursor: pointer;\n",
              "      display: none;\n",
              "      fill: #1967D2;\n",
              "      height: 32px;\n",
              "      padding: 0 0 0 0;\n",
              "      width: 32px;\n",
              "    }\n",
              "\n",
              "    .colab-df-convert:hover {\n",
              "      background-color: #E2EBFA;\n",
              "      box-shadow: 0px 1px 2px rgba(60, 64, 67, 0.3), 0px 1px 3px 1px rgba(60, 64, 67, 0.15);\n",
              "      fill: #174EA6;\n",
              "    }\n",
              "\n",
              "    .colab-df-buttons div {\n",
              "      margin-bottom: 4px;\n",
              "    }\n",
              "\n",
              "    [theme=dark] .colab-df-convert {\n",
              "      background-color: #3B4455;\n",
              "      fill: #D2E3FC;\n",
              "    }\n",
              "\n",
              "    [theme=dark] .colab-df-convert:hover {\n",
              "      background-color: #434B5C;\n",
              "      box-shadow: 0px 1px 3px 1px rgba(0, 0, 0, 0.15);\n",
              "      filter: drop-shadow(0px 1px 2px rgba(0, 0, 0, 0.3));\n",
              "      fill: #FFFFFF;\n",
              "    }\n",
              "  </style>\n",
              "\n",
              "    <script>\n",
              "      const buttonEl =\n",
              "        document.querySelector('#df-dc390283-6bdd-4ee7-848d-f1642baeccf2 button.colab-df-convert');\n",
              "      buttonEl.style.display =\n",
              "        google.colab.kernel.accessAllowed ? 'block' : 'none';\n",
              "\n",
              "      async function convertToInteractive(key) {\n",
              "        const element = document.querySelector('#df-dc390283-6bdd-4ee7-848d-f1642baeccf2');\n",
              "        const dataTable =\n",
              "          await google.colab.kernel.invokeFunction('convertToInteractive',\n",
              "                                                    [key], {});\n",
              "        if (!dataTable) return;\n",
              "\n",
              "        const docLinkHtml = 'Like what you see? Visit the ' +\n",
              "          '<a target=\"_blank\" href=https://colab.research.google.com/notebooks/data_table.ipynb>data table notebook</a>'\n",
              "          + ' to learn more about interactive tables.';\n",
              "        element.innerHTML = '';\n",
              "        dataTable['output_type'] = 'display_data';\n",
              "        await google.colab.output.renderOutput(dataTable, element);\n",
              "        const docLink = document.createElement('div');\n",
              "        docLink.innerHTML = docLinkHtml;\n",
              "        element.appendChild(docLink);\n",
              "      }\n",
              "    </script>\n",
              "  </div>\n",
              "\n",
              "\n",
              "    <div id=\"df-93d1e018-ac86-4b5c-ac06-7255f7287758\">\n",
              "      <button class=\"colab-df-quickchart\" onclick=\"quickchart('df-93d1e018-ac86-4b5c-ac06-7255f7287758')\"\n",
              "                title=\"Suggest charts\"\n",
              "                style=\"display:none;\">\n",
              "\n",
              "<svg xmlns=\"http://www.w3.org/2000/svg\" height=\"24px\"viewBox=\"0 0 24 24\"\n",
              "     width=\"24px\">\n",
              "    <g>\n",
              "        <path d=\"M19 3H5c-1.1 0-2 .9-2 2v14c0 1.1.9 2 2 2h14c1.1 0 2-.9 2-2V5c0-1.1-.9-2-2-2zM9 17H7v-7h2v7zm4 0h-2V7h2v10zm4 0h-2v-4h2v4z\"/>\n",
              "    </g>\n",
              "</svg>\n",
              "      </button>\n",
              "\n",
              "<style>\n",
              "  .colab-df-quickchart {\n",
              "      --bg-color: #E8F0FE;\n",
              "      --fill-color: #1967D2;\n",
              "      --hover-bg-color: #E2EBFA;\n",
              "      --hover-fill-color: #174EA6;\n",
              "      --disabled-fill-color: #AAA;\n",
              "      --disabled-bg-color: #DDD;\n",
              "  }\n",
              "\n",
              "  [theme=dark] .colab-df-quickchart {\n",
              "      --bg-color: #3B4455;\n",
              "      --fill-color: #D2E3FC;\n",
              "      --hover-bg-color: #434B5C;\n",
              "      --hover-fill-color: #FFFFFF;\n",
              "      --disabled-bg-color: #3B4455;\n",
              "      --disabled-fill-color: #666;\n",
              "  }\n",
              "\n",
              "  .colab-df-quickchart {\n",
              "    background-color: var(--bg-color);\n",
              "    border: none;\n",
              "    border-radius: 50%;\n",
              "    cursor: pointer;\n",
              "    display: none;\n",
              "    fill: var(--fill-color);\n",
              "    height: 32px;\n",
              "    padding: 0;\n",
              "    width: 32px;\n",
              "  }\n",
              "\n",
              "  .colab-df-quickchart:hover {\n",
              "    background-color: var(--hover-bg-color);\n",
              "    box-shadow: 0 1px 2px rgba(60, 64, 67, 0.3), 0 1px 3px 1px rgba(60, 64, 67, 0.15);\n",
              "    fill: var(--button-hover-fill-color);\n",
              "  }\n",
              "\n",
              "  .colab-df-quickchart-complete:disabled,\n",
              "  .colab-df-quickchart-complete:disabled:hover {\n",
              "    background-color: var(--disabled-bg-color);\n",
              "    fill: var(--disabled-fill-color);\n",
              "    box-shadow: none;\n",
              "  }\n",
              "\n",
              "  .colab-df-spinner {\n",
              "    border: 2px solid var(--fill-color);\n",
              "    border-color: transparent;\n",
              "    border-bottom-color: var(--fill-color);\n",
              "    animation:\n",
              "      spin 1s steps(1) infinite;\n",
              "  }\n",
              "\n",
              "  @keyframes spin {\n",
              "    0% {\n",
              "      border-color: transparent;\n",
              "      border-bottom-color: var(--fill-color);\n",
              "      border-left-color: var(--fill-color);\n",
              "    }\n",
              "    20% {\n",
              "      border-color: transparent;\n",
              "      border-left-color: var(--fill-color);\n",
              "      border-top-color: var(--fill-color);\n",
              "    }\n",
              "    30% {\n",
              "      border-color: transparent;\n",
              "      border-left-color: var(--fill-color);\n",
              "      border-top-color: var(--fill-color);\n",
              "      border-right-color: var(--fill-color);\n",
              "    }\n",
              "    40% {\n",
              "      border-color: transparent;\n",
              "      border-right-color: var(--fill-color);\n",
              "      border-top-color: var(--fill-color);\n",
              "    }\n",
              "    60% {\n",
              "      border-color: transparent;\n",
              "      border-right-color: var(--fill-color);\n",
              "    }\n",
              "    80% {\n",
              "      border-color: transparent;\n",
              "      border-right-color: var(--fill-color);\n",
              "      border-bottom-color: var(--fill-color);\n",
              "    }\n",
              "    90% {\n",
              "      border-color: transparent;\n",
              "      border-bottom-color: var(--fill-color);\n",
              "    }\n",
              "  }\n",
              "</style>\n",
              "\n",
              "      <script>\n",
              "        async function quickchart(key) {\n",
              "          const quickchartButtonEl =\n",
              "            document.querySelector('#' + key + ' button');\n",
              "          quickchartButtonEl.disabled = true;  // To prevent multiple clicks.\n",
              "          quickchartButtonEl.classList.add('colab-df-spinner');\n",
              "          try {\n",
              "            const charts = await google.colab.kernel.invokeFunction(\n",
              "                'suggestCharts', [key], {});\n",
              "          } catch (error) {\n",
              "            console.error('Error during call to suggestCharts:', error);\n",
              "          }\n",
              "          quickchartButtonEl.classList.remove('colab-df-spinner');\n",
              "          quickchartButtonEl.classList.add('colab-df-quickchart-complete');\n",
              "        }\n",
              "        (() => {\n",
              "          let quickchartButtonEl =\n",
              "            document.querySelector('#df-93d1e018-ac86-4b5c-ac06-7255f7287758 button');\n",
              "          quickchartButtonEl.style.display =\n",
              "            google.colab.kernel.accessAllowed ? 'block' : 'none';\n",
              "        })();\n",
              "      </script>\n",
              "    </div>\n",
              "\n",
              "    </div>\n",
              "  </div>\n"
            ],
            "application/vnd.google.colaboratory.intrinsic+json": {
              "type": "dataframe",
              "variable_name": "df",
              "summary": "{\n  \"name\": \"df\",\n  \"rows\": 29569,\n  \"fields\": [\n    {\n      \"column\": \"text\",\n      \"properties\": {\n        \"dtype\": \"string\",\n        \"num_unique_values\": 29569,\n        \"samples\": [\n          \"20 y\\r\\n21 de enero de 2005\\r\\nun evento m?s\\r\\nde :\\r\\nmonterreysede : monterrey @ italiam . com\\r\\nla falta de organizaci?n y control en el departamento de compras\\r\\npueden llevar a las ?reas interrelacionadas como almac?n ,\\r\\ninventarios , producci?n , y hasta la empresa en general - al caos\\r\\nadministrativo y operativo - muchos ejecutivos operan en forma\\r\\nemp?rica o por cuenta propia , sin considerar los factores necesarios\\r\\npara determinar una estructura ?ptima , basada en normas y\\r\\nprocedimientos que les permitan administrarse y operar en forma\\r\\nefectiva y confiable . este seminario le ofrece lo que usted necesita\\r\\nconocer para poner en marcha la modernizaci?n de su departamento ,\\r\\nincluyendo :\\r\\nc?mo organizar y establecer la estructura de un departamento\\r\\nde compras\\r\\nc?mo dise?ar los objetivos y planes estrat?gicos de\\r\\ncompras\\r\\nlas normas ?ticas de compras en la negociaci?n\\r\\nc?mo elaborar el manual de pol?ticas , procedimientos y\\r\\ncontroles de compras\\r\\nc?mo desarrollar y mantener un departamento de compras\\r\\ncompetitivo\\r\\nlos continuos cambios en el mercado global , exigen contar con un\\r\\ndepartamento de compras administrado eficazmente , ya que mediante su\\r\\nlabor en la adecuada selecci?n de proveedores para la adquisici?n y\\r\\nentrega oportuna de la materia prima y bienes o servicios con la\\r\\ncalidad , cantidad y precios adecuados , afectan en forma directa los\\r\\nprocesos internos de la empresa , as? como los resultados finales\\r\\nante el cliente .\\r\\n? ? la importancia de capacitarse con los l?deres ! !\\r\\nexperiencia , calidad y ?xito . . .\\r\\nquality training de m?xico , le ofrece los m?s aclamados\\r\\nconsultores y seminarios ejecutivos disponibles en el mercado . . . con\\r\\nlos temas de mayor impacto en las empresas . . . sony de m?xico , hewlett\\r\\npackard , casa cuervo , cervecer?a modelo , pemex , mexicana , molex y\\r\\nm?s de 4 , 000 empresas en m?xico y latinoam?rica , conocen nuestros\\r\\nexclusivos programas de capacitaci?n .\\r\\nun experto estar? con usted\\r\\ntemario\\r\\n1 . - el proceso administrativo y su aplicaci?n integral a\\r\\nla funci?n de compras .\\r\\n2 . - teor?a de la planeaci?n y la\\r\\nprogramaci?n .\\r\\n3 . - la funci?n de las compras y su evoluci?n\\r\\n4 . - la administraci?n por objetivos y su aplicaci?n en la\\r\\nfunci?n de compras\\r\\n5 . - c?mo dise?ar los objetivos estrat?gicos de compras y\\r\\nsu integraci?n con los objetivos de otras funciones de la\\r\\nempresa\\r\\n6 . - normas ?ticas de las compras\\r\\n7 . - pr?cticas ?ticas del comprador\\r\\nprofesional\\r\\n8 . - el perfil del comprador profesional\\r\\n9 . - auto - diagn?stico del comprador\\r\\n10 . - m?todos de evaluaci?n del desempe?o del comprador y\\r\\nrecompensas por actuaci?n y resultados\\r\\n11 . - descripci?n del puesto del comprador profesional y\\r\\nm?todos modernos para la evaluaci?n de los puestos\\r\\n12 . - la administraci?n de sueldos en el departamento de\\r\\ncompras\\r\\nhorario : matitutino , duraci?n : 2 d?as\\r\\nhorario : de\\r\\n9 : 00 am a 2 : 00 pm\\r\\nincluye\\r\\ninformaci?n estrat?gica , material de\\r\\ntrabajo , reconocimiento con valor oficial , coffee breaky la\\r\\nexposici?n de un prestigiado\\r\\nconsultor .\\r\\nforma de inscripci?n\\r\\n1 . - llenar debidamente la\\r\\nsolicitud de inscripci?n .\\r\\n2 . - cheque a nombre de :\\r\\nquality training corporation s . c .\\r\\n3 . - dep?sito en banamex\\r\\ncuenta : 6680083 sucursal : 082 centro\\r\\nfinanciero paseo .\\r\\n4 . - enviar\\r\\npor fax o e - mail la ficha de su dep?sito sellada .\\r\\n5 . - la cancelaci?n de la\\r\\ninscripci?n podr? efectuarse 5 d?as h?biles previos al inicio del\\r\\nseminario , en caso contrario deber? pagar la cuota completa y se\\r\\nemitir? una carta de cr?dito valida para un seminario\\r\\nfuturo .\\r\\ninversi?n :\\r\\n$ 5 , 600 . 00 m?s iva\\r\\npronto pago :\\r\\n$ 4 , 920 . 00 m?s iva\\r\\nantes del 13 de enero\\r\\n? ? haga click aqu? ! ! . . . y envienos su solicitud de\\r\\ninscripci?noficinas\\r\\nejecutivas monterreycolombia no . 340 col . vista\\r\\nhermosamonterrey , nuevo le?n , c . p . 64620 tel?fono : ( 81 ) 8123 25 17\\r\\ncon 10 lineaslada sin costo : 01 800 90 10000 monterrey @ italiam . comw w w . i t a l i a m .\\r\\nc o mquality training de m?xico  - todos\\r\\nlos derechos\\r\\nreservados\\r\\n\",\n          \"dear homeowner ,\\r\\ndid you know you can refinance your current mortgage\\r\\nat rates much lower than your paying now ?\\r\\nwhy pay more than you have to ?\\r\\nrefinance now with ease .\\r\\nfast , free , professional service .\\r\\nhave a look for yourself !\\r\\nwe are making financing simple .\\r\\nconfirm your interest by submitting the following short form .\\r\\nhttp : / / goodratezz . com / x / loan . php ? id = somb\\r\\nsincerely ,\\r\\nmaria lucas santarosa\\r\\ndiscontinue ,\\r\\nhttp : / / goodratezz . com / x / st . html\",\n          \"sevil ,\\r\\ni believe you and margret daffin have spoken about the next steps for your\\r\\ngreen card . you will need to start working on you hib at the begining of\\r\\noctober 2001 .\\r\\nif there is any confusion on my part please let me know .\\r\\nnorma villarreal\\r\\nx 31545\\r\\nbelow is dicussion between margret daffin and sevil in an e : mail january 26 ,\\r\\n2001 :\\r\\n\\\" sevil : first of all we have to get you an hib visa before we can work on\\r\\ngetting you the green card .\\r\\nafter you get your opt , contact me sometime in the summer and i will start\\r\\nworking on your hib visa which we will obtain in approx . october , 2001 . we\\r\\ncannot start the green card process when you are still on an fl visa - you\\r\\nhave to be on an hib visa . there is no rush - you will have six years on the\\r\\nhib visa - plenty of time in which to get the green card . \\\"\\r\\nthis was in reference to her note to me , as follows :\\r\\n\\\" i think i ' ll have time approximately until the end of 2002 by using cpt and\\r\\nopt . this makes almost two years . if we can start green card process now , do\\r\\nyou think that i would get it before i need hl . in every case , can ' t we start\\r\\ngreen card before i get hl ? because i don ' t want to waste these two years\\r\\ngiven the fact that green card process is a long process . \\\"\\r\\n- - - - - original message - - - - -\\r\\nfrom : yaman , sevil\\r\\nsent : thursday , march 08 , 2001 3 : 59 pm\\r\\nto : daffin , margaret\\r\\ncc : norma villarreal / hou / ect @ enron\\r\\nsubject : green card\\r\\ni haven ' t heard back from any of you regarding my immigration status . could\\r\\nyou please get back to me with the information about the initialization of my\\r\\ngreen card process ? thank you .\\r\\nsevil yaman\\r\\neb 1943\\r\\nx 58083\"\n        ],\n        \"semantic_type\": \"\",\n        \"description\": \"\"\n      }\n    },\n    {\n      \"column\": \"label\",\n      \"properties\": {\n        \"dtype\": \"number\",\n        \"std\": 0,\n        \"min\": 0,\n        \"max\": 1,\n        \"num_unique_values\": 2,\n        \"samples\": [\n          1,\n          0\n        ],\n        \"semantic_type\": \"\",\n        \"description\": \"\"\n      }\n    }\n  ]\n}"
            }
          },
          "metadata": {},
          "execution_count": 4
        }
      ],
      "source": [
        "import pandas as pd, glob\n",
        "\n",
        "# Find first CSV file and load it\n",
        "csv = glob.glob(\"/content/data/**/*.csv\", recursive=True)[0]\n",
        "df = pd.read_csv(csv, encoding='latin-1').dropna()\n",
        "df.columns = [c.lower() for c in df.columns]\n",
        "\n",
        "# Identify likely text and label columns\n",
        "text_col = [c for c in df.columns if 'text' in c or 'message' in c or 'body' in c or 'email' in c][0]\n",
        "label_col = [c for c in df.columns if 'label' in c or 'class' in c or 'spam' in c or 'phish' in c][0]\n",
        "\n",
        "df = df[[text_col, label_col]].rename(columns={text_col:'text', label_col:'label'})\n",
        "print(\"✅ Loaded\", len(df), \"emails\")\n",
        "df.head(3)"
      ]
    },
    {
      "cell_type": "markdown",
      "metadata": {
        "id": "_AFq1n_50zpc"
      },
      "source": [
        "#### Explanation:\n",
        "- Automatically finds and reads the first .csv file inside the dataset folder.\n",
        "- Cleans missing values (dropna()).\n",
        "- Detects which columns contain email text and labels based on column names.\n",
        "- Renames them to standardized columns:\n",
        "\n",
        "    `text` → email content\n",
        "\n",
        "    `label` → phishing/spam indicator\n",
        "\n",
        "- Displays the first few rows for quick inspection.\n",
        "---\n",
        "## Step 2: Train Model\n",
        "\n",
        "Now we train a lightweight, explainable model using text-based features.\n",
        "---\n",
        "Clean & Normalize Labels"
      ]
    },
    {
      "cell_type": "code",
      "execution_count": 5,
      "metadata": {
        "id": "yn7w8d2j1UE6"
      },
      "outputs": [],
      "source": [
        "# --- Robust label mapping ---\n",
        "lab = df['label'].astype(str).str.lower().str.strip()\n",
        "\n",
        "# Common tokens for spam and ham classes\n",
        "SPAM_TOKENS = {'spam','phish','phishing','malicious','malware','attack','fraud','scam','bad','abusive','1','true','yes'}\n",
        "HAM_TOKENS  = {'ham','legit','legitimate','benign','normal','not_spam','0','false','no','safe'}\n",
        "\n",
        "def map_label(s):\n",
        "    # exact match first\n",
        "    if s in SPAM_TOKENS: return 1\n",
        "    if s in HAM_TOKENS:  return 0\n",
        "    # substring fallback\n",
        "    if any(t in s for t in ['spam','phish','malic','attack','fraud','scam']): return 1\n",
        "    if any(t in s for t in ['ham','legit','normal','safe']): return 0\n",
        "    # numeric fallback\n",
        "    if s.isdigit(): return int(s) if s in {'0','1'} else 0\n",
        "    return 0  # default to ham if unknown\n",
        "\n",
        "y = lab.apply(map_label).astype(int)\n",
        "X = df['text'].astype(str)"
      ]
    },
    {
      "cell_type": "markdown",
      "metadata": {
        "id": "P-lozGZj1XsJ"
      },
      "source": [
        "#### Explanation\n",
        "\n",
        "- Converts all labels to lowercase text.\n",
        "- Maps common variants of phishing/spam labels (`spam`, `phish`, `fraud`, etc.) to 1.\n",
        "- Maps safe/ham/legit labels to 0.\n",
        "- The `map_label` function ensures the dataset works even if label names differ across sources.\n",
        "\n",
        "### Clean Email Text"
      ]
    },
    {
      "cell_type": "code",
      "execution_count": 6,
      "metadata": {
        "id": "bqsmhLDI1qQw"
      },
      "outputs": [],
      "source": [
        "import re\n",
        "\n",
        "def clean_email(t):\n",
        "    t = t.replace('\\r','\\n')\n",
        "    cleaned_lines = []\n",
        "    for ln in t.splitlines():\n",
        "        if not re.match(r'^(from:|to:|subject:|cc:|bcc:|date:|reply-to:)', ln.strip().lower()):\n",
        "            cleaned_lines.append(ln)\n",
        "    t = '\\n'.join(cleaned_lines)\n",
        "    t = re.sub(r'\\s+', ' ', t).strip().lower()\n",
        "    return t\n",
        "\n",
        "X_clean = X.apply(clean_email)"
      ]
    },
    {
      "cell_type": "markdown",
      "metadata": {
        "id": "ybBOp0aK1uKI"
      },
      "source": [
        "#### Explanation\n",
        "- Removes common email header lines (e.g., From, Subject, To).\n",
        "- Normalizes whitespace and converts text to lowercase.\n",
        "- Keeps URLs and numbers, which are often critical indicators of phishing.\n",
        "\n",
        "---\n",
        "\n",
        "## Feature Extraction (TF-IDF)"
      ]
    },
    {
      "cell_type": "code",
      "execution_count": 7,
      "metadata": {
        "id": "3wOuywQ_15d8"
      },
      "outputs": [],
      "source": [
        "from sklearn.feature_extraction.text import TfidfVectorizer\n",
        "from scipy.sparse import hstack\n",
        "\n",
        "tfidf_word = TfidfVectorizer(ngram_range=(1,2), min_df=2, max_df=0.95, max_features=60000)\n",
        "tfidf_char = TfidfVectorizer(analyzer='char', ngram_range=(3,5), min_df=2, max_features=60000)\n",
        "\n",
        "Xw = tfidf_word.fit_transform(X_clean)\n",
        "Xc = tfidf_char.fit_transform(X_clean)\n",
        "Xv = hstack([Xw, Xc])"
      ]
    },
    {
      "cell_type": "markdown",
      "metadata": {
        "id": "Ep32Vd8c1-Zg"
      },
      "source": [
        "#### Explanation\n",
        "- Uses TF-IDF (Term Frequency–Inverse Document Frequency) to turn text into numerical vectors.\n",
        "\n",
        "- Two types of features are combined:\n",
        "\n",
        "- Word-level features: Capture words and short phrases (n-grams).\n",
        "\n",
        "- Character-level features: Capture URL and obfuscated word patterns often used in phishing.\n",
        "\n",
        "- The two matrices are combined using `hstack()` for a rich representation.\n",
        "\n",
        "----\n",
        "\n",
        "## Train the Model"
      ]
    },
    {
      "cell_type": "code",
      "execution_count": 8,
      "metadata": {
        "id": "O_X4b76a2M32",
        "colab": {
          "base_uri": "https://localhost:8080/"
        },
        "outputId": "315e8a10-5a3f-47d0-9abe-833933493f00"
      },
      "outputs": [
        {
          "output_type": "stream",
          "name": "stdout",
          "text": [
            "Trained on 29569 emails with 120000 features\n"
          ]
        }
      ],
      "source": [
        "from sklearn.svm import LinearSVC\n",
        "model = LinearSVC(class_weight='balanced', max_iter=3000)\n",
        "model.fit(Xv, y)\n",
        "\n",
        "print(\"Trained on\", Xv.shape[0], \"emails with\", Xv.shape[1], \"features\")"
      ]
    },
    {
      "cell_type": "markdown",
      "metadata": {
        "id": "6e541a66"
      },
      "source": [
        "### Step: Training Accuracy & Performance Graph\n",
        "This step computes the **training accuracy** of the fitted model and draws a graph. If a Keras `history` object is available from `model.fit(...)`, the chart will show accuracy per epoch; otherwise, it will plot a simple comparison of available metrics (e.g., train/test accuracy)."
      ]
    },
    {
      "cell_type": "code",
      "execution_count": 9,
      "metadata": {
        "colab": {
          "base_uri": "https://localhost:8080/",
          "height": 469
        },
        "id": "1ed5bd5f",
        "outputId": "e43a8ec6-d76d-45eb-e1d1-2b115ef14472"
      },
      "outputs": [
        {
          "output_type": "stream",
          "name": "stdout",
          "text": [
            "Training accuracy: 0.9999\n"
          ]
        },
        {
          "output_type": "display_data",
          "data": {
            "text/plain": [
              "<Figure size 640x480 with 1 Axes>"
            ],
            "image/png": "[encoded data removed]"
          },
          "metadata": {}
        }
      ],
      "source": [
        "# === Training Accuracy & Graph ===\n",
        "# This cell assumes the model and training data already exist from the previous step.\n",
        "# Detected variables (best guess from the .fit(...) call):\n",
        "MODEL_VAR = \"model\"\n",
        "X_TRAIN_VAR = \"Xv\"\n",
        "Y_TRAIN_VAR = \"y\"\n",
        "\n",
        "# Resolve objects from globals\n",
        "model = globals().get(MODEL_VAR)\n",
        "X_train = globals().get(X_TRAIN_VAR)\n",
        "y_train = globals().get(Y_TRAIN_VAR)\n",
        "\n",
        "if model is None or X_train is None or y_train is None:\n",
        "    raise RuntimeError(f\"Expected variables not found. Got: \"\n",
        "                       f\"model={type(model)}, X_train={type(X_train)}, y_train={type(y_train)}. \"\n",
        "                       f\"Please make sure to run the training cell first.\")\n",
        "\n",
        "# Try to detect test split if present\n",
        "X_test = globals().get(\"X_test\")\n",
        "y_test = globals().get(\"y_test\")\n",
        "\n",
        "# Compute training accuracy robustly (works for sklearn & Keras)\n",
        "import numpy as np\n",
        "from math import isnan\n",
        "try:\n",
        "    from sklearn.metrics import accuracy_score\n",
        "except Exception as _e:\n",
        "    accuracy_score = None\n",
        "\n",
        "def to_label(pred):\n",
        "    \"\"\"Convert predictions to class labels if needed.\"\"\"\n",
        "    if isinstance(pred, np.ndarray):\n",
        "        # Keras style: (n,1) or (n,) floats -> threshold at 0.5\n",
        "        if pred.ndim == 2 and pred.shape[1] > 1:\n",
        "            return pred.argmax(axis=1)\n",
        "        if pred.ndim == 2 and pred.shape[1] == 1:\n",
        "            return (pred.ravel() >= 0.5).astype(int)\n",
        "        if pred.ndim == 1 and pred.dtype.kind in (\"f\",\"c\"):\n",
        "            return (pred >= 0.5).astype(int)\n",
        "    return pred  # sklearn usually returns labels already\n",
        "\n",
        "# Training predictions\n",
        "train_pred_raw = model.predict(X_train)\n",
        "y_train_pred = to_label(train_pred_raw)\n",
        "\n",
        "if accuracy_score is None:\n",
        "    raise RuntimeError(\"scikit-learn is required for accuracy_score. Please install scikit-learn.\")\n",
        "\n",
        "train_acc = accuracy_score(y_train, y_train_pred)\n",
        "print(f\"Training accuracy: {train_acc:.4f}\")\n",
        "\n",
        "# Optional: compute test accuracy if test split exists and the model can predict\n",
        "test_acc = None\n",
        "if X_test is not None and y_test is not None:\n",
        "    try:\n",
        "        test_pred_raw = model.predict(X_test)\n",
        "        y_test_pred = to_label(test_pred_raw)\n",
        "        test_acc = accuracy_score(y_test, y_test_pred)\n",
        "        print(f\"Test accuracy: {test_acc:.4f}\")\n",
        "    except Exception as e:\n",
        "        print(\"Could not compute test accuracy:\", e)\n",
        "\n",
        "# Plotting\n",
        "import matplotlib.pyplot as plt\n",
        "\n",
        "# Case 1: Keras History object\n",
        "history = globals().get(\"history\")\n",
        "plotted = False\n",
        "if history is not None:\n",
        "    # Compatible with tf.keras.callbacks.History or dict-like\n",
        "    hist_dict = getattr(history, \"history\", None)\n",
        "    if isinstance(hist_dict, dict):\n",
        "        acc = hist_dict.get(\"accuracy\") or hist_dict.get(\"acc\")\n",
        "        val_acc = hist_dict.get(\"val_accuracy\") or hist_dict.get(\"val_acc\")\n",
        "        if acc is not None:\n",
        "            plt.figure()\n",
        "            plt.plot(acc, label=\"Train Accuracy\")\n",
        "            if val_acc is not None:\n",
        "                plt.plot(val_acc, label=\"Validation Accuracy\")\n",
        "            plt.xlabel(\"Epoch\")\n",
        "            plt.ylabel(\"Accuracy\")\n",
        "            plt.title(\"Accuracy over Epochs\")\n",
        "            plt.legend()\n",
        "            plt.grid(True, linestyle=\"--\", alpha=0.4)\n",
        "            plt.show()\n",
        "            plotted = True\n",
        "\n",
        "# Case 2: Fallback bar chart (train/test accuracy)\n",
        "if not plotted:\n",
        "    labels = [\"Train\"]\n",
        "    values = [train_acc]\n",
        "    if test_acc is not None:\n",
        "        labels.append(\"Test\")\n",
        "        values.append(test_acc)\n",
        "\n",
        "    plt.figure()\n",
        "    plt.bar(labels, values)\n",
        "    plt.ylim(0, 1)\n",
        "    plt.ylabel(\"Accuracy\")\n",
        "    plt.title(\"Model Accuracy\")\n",
        "    for i, v in enumerate(values):\n",
        "        plt.text(i, v + 0.02, f\"{v:.3f}\", ha=\"center\")\n",
        "    plt.show()\n"
      ]
    },
    {
      "cell_type": "markdown",
      "metadata": {
        "id": "NRaum1BY2U4j"
      },
      "source": [
        "#### Explanation\n",
        "\n",
        "- LinearSVC (Support Vector Machine) is efficient and robust for text classification.\n",
        "\n",
        "- The `class_weight='balanced'` handles imbalance between spam and ham samples.\n",
        "\n",
        "- Trains on the TF-IDF features to learn distinguishing patterns.\n",
        "\n",
        "---\n",
        "## Step 3: Test the Model\n",
        "You can now input any text or email content to test the model’s prediction.\n",
        "---\n",
        "\n",
        "### Define the Test Function"
      ]
    },
    {
      "cell_type": "code",
      "execution_count": 10,
      "metadata": {
        "id": "VsUSkjBj2pKI"
      },
      "outputs": [],
      "source": [
        "from scipy.sparse import hstack\n",
        "\n",
        "def check_email(email_text: str):\n",
        "    v_w = tfidf_word.transform([clean_email(email_text)])\n",
        "    v_c = tfidf_char.transform([clean_email(email_text)])\n",
        "    v   = hstack([v_w, v_c])\n",
        "    pred = model.predict(v)[0]\n",
        "    return \"PHISHING/SPAM\" if pred == 1 else \"Safe email\""
      ]
    },
    {
      "cell_type": "markdown",
      "metadata": {
        "id": "u-Z23g6B2xJZ"
      },
      "source": [
        "#### Explanation\n",
        "\n",
        "- Cleans your input email text.\n",
        "\n",
        "- Converts it into both word and character TF-IDF feature vectors.\n",
        "\n",
        "- Feeds it to the trained SVM model to predict phishing (1) or safe (0).\n",
        "\n",
        "### Try Example Emails"
      ]
    },
    {
      "cell_type": "code",
      "execution_count": 11,
      "metadata": {
        "id": "r1mFr9WA27-h",
        "colab": {
          "base_uri": "https://localhost:8080/"
        },
        "outputId": "ecd08ede-12ff-4379-8083-476d20da0d5a"
      },
      "outputs": [
        {
          "output_type": "stream",
          "name": "stdout",
          "text": [
            "PHISHING/SPAM\n",
            "Safe email\n",
            "PHISHING/SPAM\n"
          ]
        }
      ],
      "source": [
        "print(check_email(\"Your account has been locked. Verify now at http://fakebank.com\"))\n",
        "print(check_email(\"Hi John, attached are the meeting minutes for today.\"))\n",
        "print(check_email(\"Hey did you check this picture before, its great landscape http://someoddpic.sm\"))"
      ]
    },
    {
      "cell_type": "markdown",
      "metadata": {
        "id": "RKgG-Lm22_Xa"
      },
      "source": [
        "#### Expected Output\n",
        "\n",
        "```\n",
        "PHISHING/SPAM\n",
        "Safe email\n",
        "PHISHING/SPAM\n",
        "```\n",
        "\n",
        "## Summary\n",
        "| Step                      | Description                                |\n",
        "| ------------------------- | ------------------------------------------ |\n",
        "| **1. Setup**              | Install dependencies & authenticate Kaggle |\n",
        "| **2. Download Data**      | Get a real phishing dataset                |\n",
        "| **3. Preprocess**         | Clean text and normalize labels            |\n",
        "| **4. Feature Extraction** | TF-IDF on words + characters               |\n",
        "| **5. Train Model**        | Linear SVM classifier                      |\n",
        "| **6. Test Model**         | Predict phishing vs safe emails            |\n"
      ]
    }
  ],
  "metadata": {
    "colab": {
      "provenance": []
    },
    "kernelspec": {
      "display_name": "Python 3",
      "name": "python3"
    },
    "language_info": {
      "name": "python"
    }
  },
  "nbformat": 4,
  "nbformat_minor": 0
}