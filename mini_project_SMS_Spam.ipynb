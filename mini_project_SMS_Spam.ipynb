{
  "cells": [
    {
      "cell_type": "markdown",
      "id": "93528c7d",
      "metadata": {
        "id": "93528c7d"
      },
      "source": [
        "\n",
        "# 🔎 Mini Project (≤ 1 hour): SMS Spam Detector\n",
        "\n",
        "**Goal:** Build a tiny AI model that classifies SMS messages as **spam** or **ham** (not spam).  \n",
        "No prior AI/cybersecurity experience required — just run the cells top-to-bottom in **Google Colab**.\n",
        "\n",
        "**What you'll do:**\n",
        "1. Load a small public SMS dataset.\n",
        "2. Train a text classifier with a few lines of code.\n",
        "3. See accuracy + a quick bar chart.\n",
        "4. Test it with your own messages.\n",
        "\n",
        "> Why this project? It's a practical, bite-sized introduction to AI for security (spam filtering), **finishable in under an hour**, and easy to extend if you’re curious.\n"
      ]
    },
    {
      "cell_type": "markdown",
      "id": "066db800",
      "metadata": {
        "id": "066db800"
      },
      "source": [
        "\n",
        "## ✅ Setup (Colab friendly)\n",
        "\n",
        "Run this cell to import the libraries we need.\n"
      ]
    },
    {
      "cell_type": "code",
      "execution_count": 1,
      "id": "62092cce",
      "metadata": {
        "id": "62092cce"
      },
      "outputs": [],
      "source": [
        "\n",
        "# If you're on Colab, these are usually already installed.\n",
        "# If any import fails, uncomment the pip lines below to install.\n",
        "# !pip install -q scikit-learn pandas matplotlib\n",
        "\n",
        "import pandas as pd\n",
        "import numpy as np\n",
        "import matplotlib.pyplot as plt\n",
        "\n",
        "from sklearn.model_selection import train_test_split\n",
        "from sklearn.feature_extraction.text import TfidfVectorizer\n",
        "from sklearn.linear_model import LogisticRegression\n",
        "from sklearn.pipeline import Pipeline\n",
        "from sklearn.metrics import accuracy_score, classification_report, confusion_matrix\n"
      ]
    },
    {
      "cell_type": "markdown",
      "id": "782f0de0",
      "metadata": {
        "id": "782f0de0"
      },
      "source": [
        "\n",
        "## 📥 Load the dataset\n",
        "\n",
        "We'll use a small, well-known SMS dataset (labels: `ham` or `spam`).  \n",
        "The file is hosted on GitHub and loads directly in Colab.\n"
      ]
    },
    {
      "cell_type": "code",
      "execution_count": 2,
      "id": "2d07281b",
      "metadata": {
        "colab": {
          "base_uri": "https://localhost:8080/"
        },
        "id": "2d07281b",
        "outputId": "d6b95cbe-bbff-4ca2-cf06-3f4f597e90b7"
      },
      "outputs": [
        {
          "output_type": "stream",
          "name": "stdout",
          "text": [
            "✅ Dataset loaded successfully!\n",
            "  label                                            message\n",
            "0   ham  Go until jurong point, crazy.. Available only ...\n",
            "1   ham                      Ok lar... Joking wif u oni...\n",
            "2  spam  Free entry in 2 a wkly comp to win FA Cup fina...\n",
            "3   ham  U dun say so early hor... U c already then say...\n",
            "4   ham  Nah I don't think he goes to usf, he lives aro...\n",
            "\n",
            "Total messages: 5572\n",
            "label\n",
            "ham     4825\n",
            "spam     747\n",
            "Name: count, dtype: int64\n"
          ]
        }
      ],
      "source": [
        "# Dataset URL (tab-separated with columns: label, message)\n",
        "DATA_URL = \"https://raw.githubusercontent.com/utsav-195/sms-spam-ham-classification/main/data/SMSSpamCollection\"\n",
        "\n",
        "# Load the dataset properly\n",
        "df = pd.read_csv(\n",
        "    DATA_URL,\n",
        "    sep='\\t',             # tab-separated values\n",
        "    header=None,           # no header row in file\n",
        "    names=['label', 'message'],  # assign column names\n",
        "    encoding='utf-8'       # robust text decoding\n",
        ")\n",
        "\n",
        "print(\"✅ Dataset loaded successfully!\")\n",
        "print(df.head())\n",
        "print(f\"\\nTotal messages: {len(df)}\")\n",
        "print(df['label'].value_counts())"
      ]
    },
    {
      "cell_type": "markdown",
      "id": "f96de161",
      "metadata": {
        "id": "f96de161"
      },
      "source": [
        "\n",
        "## ✂️ Train / Test split\n",
        "\n",
        "We'll train on 80% of the data and test on 20%.\n"
      ]
    },
    {
      "cell_type": "code",
      "execution_count": 3,
      "id": "74bc2274",
      "metadata": {
        "colab": {
          "base_uri": "https://localhost:8080/",
          "height": 210
        },
        "id": "74bc2274",
        "outputId": "74ec46fd-00ac-4b37-b2b6-235aa82276e8"
      },
      "outputs": [
        {
          "output_type": "stream",
          "name": "stdout",
          "text": [
            "Train size: 4457 \n",
            "Test size: 1115\n"
          ]
        },
        {
          "output_type": "execute_result",
          "data": {
            "text/plain": [
              "label\n",
              "ham     3859\n",
              "spam     598\n",
              "Name: count, dtype: int64"
            ],
            "text/html": [
              "<div>\n",
              "<style scoped>\n",
              "    .dataframe tbody tr th:only-of-type {\n",
              "        vertical-align: middle;\n",
              "    }\n",
              "\n",
              "    .dataframe tbody tr th {\n",
              "        vertical-align: top;\n",
              "    }\n",
              "\n",
              "    .dataframe thead th {\n",
              "        text-align: right;\n",
              "    }\n",
              "</style>\n",
              "<table border=\"1\" class=\"dataframe\">\n",
              "  <thead>\n",
              "    <tr style=\"text-align: right;\">\n",
              "      <th></th>\n",
              "      <th>count</th>\n",
              "    </tr>\n",
              "    <tr>\n",
              "      <th>label</th>\n",
              "      <th></th>\n",
              "    </tr>\n",
              "  </thead>\n",
              "  <tbody>\n",
              "    <tr>\n",
              "      <th>ham</th>\n",
              "      <td>3859</td>\n",
              "    </tr>\n",
              "    <tr>\n",
              "      <th>spam</th>\n",
              "      <td>598</td>\n",
              "    </tr>\n",
              "  </tbody>\n",
              "</table>\n",
              "</div><br><label><b>dtype:</b> int64</label>"
            ]
          },
          "metadata": {},
          "execution_count": 3
        }
      ],
      "source": [
        "\n",
        "X_train, X_test, y_train, y_test = train_test_split(\n",
        "    df['message'], df['label'], test_size=0.2, random_state=42, stratify=df['label']\n",
        ")\n",
        "\n",
        "print(f\"Train size: {X_train.shape[0]} \\nTest size: {X_test.shape[0]}\")\n",
        "y_train.value_counts()\n"
      ]
    },
    {
      "cell_type": "markdown",
      "id": "6d9a338d",
      "metadata": {
        "id": "6d9a338d"
      },
      "source": [
        "\n",
        "## 🤖 Build & train the model\n",
        "\n",
        "We'll use a simple Pipeline: **TfidfVectorizer** (turns text into numbers) + **LogisticRegression** (classifier).\n"
      ]
    },
    {
      "cell_type": "code",
      "execution_count": 4,
      "id": "9d005a6a",
      "metadata": {
        "colab": {
          "base_uri": "https://localhost:8080/"
        },
        "id": "9d005a6a",
        "outputId": "30906b0c-faeb-42d9-9cc9-b3830ca04e0a"
      },
      "outputs": [
        {
          "output_type": "stream",
          "name": "stdout",
          "text": [
            "✅ Training complete.\n"
          ]
        }
      ],
      "source": [
        "model = Pipeline([\n",
        "    ('tfidf', TfidfVectorizer(\n",
        "        stop_words='english',\n",
        "        lowercase=True,\n",
        "        ngram_range=(1,2),      # include unigrams + bigrams (captures 'click here', 'free iphone')\n",
        "        strip_accents='unicode' # normalize accents\n",
        "    )),\n",
        "    ('clf', LogisticRegression(\n",
        "        max_iter=1000,\n",
        "        class_weight='balanced', # handle class imbalance\n",
        "        solver='liblinear'       # robust for small/medium text problems\n",
        "    ))\n",
        "])\n",
        "\n",
        "history = None  # (for compatibility with accuracy plotting templates)\n",
        "model.fit(X_train, y_train)\n",
        "print(\"✅ Training complete.\")"
      ]
    },
    {
      "cell_type": "markdown",
      "id": "f7de10f2",
      "metadata": {
        "id": "f7de10f2"
      },
      "source": [
        "\n",
        "## 📊 Accuracy & quick report\n",
        "\n",
        "We’ll compute accuracy on the test set and show a tiny bar chart (Train vs Test if both are available).\n"
      ]
    },
    {
      "cell_type": "code",
      "execution_count": 5,
      "id": "7c667703",
      "metadata": {
        "colab": {
          "base_uri": "https://localhost:8080/",
          "height": 690
        },
        "id": "7c667703",
        "outputId": "a72eae66-aed4-447d-add3-27eecaca75d3"
      },
      "outputs": [
        {
          "output_type": "stream",
          "name": "stdout",
          "text": [
            "Training accuracy: 0.9980\n",
            "Test accuracy:     0.9767\n",
            "\n",
            "Classification report (test):\n",
            "\n",
            "              precision    recall  f1-score   support\n",
            "\n",
            "         ham       0.99      0.98      0.99       966\n",
            "        spam       0.90      0.93      0.91       149\n",
            "\n",
            "    accuracy                           0.98      1115\n",
            "   macro avg       0.95      0.96      0.95      1115\n",
            "weighted avg       0.98      0.98      0.98      1115\n",
            "\n"
          ]
        },
        {
          "output_type": "display_data",
          "data": {
            "text/plain": [
              "<Figure size 640x480 with 1 Axes>"
            ],
            "image/png": "[encoded data removed]"
          },
          "metadata": {}
        }
      ],
      "source": [
        "\n",
        "# Predict and evaluate\n",
        "y_pred_train = model.predict(X_train)\n",
        "y_pred_test = model.predict(X_test)\n",
        "\n",
        "train_acc = accuracy_score(y_train, y_pred_train)\n",
        "test_acc = accuracy_score(y_test, y_pred_test)\n",
        "\n",
        "print(f\"Training accuracy: {train_acc:.4f}\")\n",
        "print(f\"Test accuracy:     {test_acc:.4f}\\n\")\n",
        "\n",
        "print(\"Classification report (test):\\n\")\n",
        "print(classification_report(y_test, y_pred_test))\n",
        "\n",
        "# Quick bar chart\n",
        "labels = [\"Train\", \"Test\"]\n",
        "values = [train_acc, test_acc]\n",
        "\n",
        "plt.figure()\n",
        "plt.bar(labels, values)\n",
        "plt.ylim(0, 1)\n",
        "plt.ylabel(\"Accuracy\")\n",
        "plt.title(\"SMS Spam Detector Accuracy\")\n",
        "for i, v in enumerate(values):\n",
        "    plt.text(i, v + 0.02, f\"{v:.3f}\", ha=\"center\")\n",
        "plt.show()\n"
      ]
    },
    {
      "cell_type": "markdown",
      "id": "7f45b825",
      "metadata": {
        "id": "7f45b825"
      },
      "source": [
        "\n",
        "## 🧪 Try your own messages\n",
        "\n",
        "Type an SMS and see whether the model thinks it's spam or ham.\n"
      ]
    },
    {
      "cell_type": "code",
      "execution_count": 6,
      "id": "a2edaaf5",
      "metadata": {
        "colab": {
          "base_uri": "https://localhost:8080/"
        },
        "id": "a2edaaf5",
        "outputId": "511e146b-1675-4d06-a072-e7a7a7882f42"
      },
      "outputs": [
        {
          "output_type": "stream",
          "name": "stdout",
          "text": [
            "[SPAM] WIN a free iPhone now!!! Click here: http://spam.link\n",
            "[HAM] Hey, are we still meeting at 5?\n"
          ]
        }
      ],
      "source": [
        "\n",
        "your_messages = [\n",
        "    \"WIN a free iPhone now!!! Click here: http://spam.link\",\n",
        "    \"Hey, are we still meeting at 5?\",\n",
        "    # 👉 Add your own examples below:\n",
        "]\n",
        "\n",
        "preds = model.predict(your_messages)\n",
        "for msg, label in zip(your_messages, preds):\n",
        "    print(f\"[{label.upper()}] {msg}\")\n"
      ]
    },
    {
      "cell_type": "code",
      "execution_count": 7,
      "id": "4ac4db22",
      "metadata": {
        "colab": {
          "base_uri": "https://localhost:8080/"
        },
        "id": "4ac4db22",
        "outputId": "344d7db3-890d-4395-803d-436a0c850150"
      },
      "outputs": [
        {
          "output_type": "stream",
          "name": "stdout",
          "text": [
            "[SPAM] p(spam)=0.790 :: WIN a free iPhone now!!! Click here: http://spam.link\n",
            "[HAM] p(spam)=0.073 :: Hey, are we still meeting at 5?\n"
          ]
        }
      ],
      "source": [
        "# 🔎 Sanity check: predictions + probabilities for two examples\n",
        "example_msgs = [\n",
        "    \"WIN a free iPhone now!!! Click here: http://spam.link\",\n",
        "    \"Hey, are we still meeting at 5?\"\n",
        "]\n",
        "preds = model.predict(example_msgs)\n",
        "\n",
        "# If classifier supports probabilities, show them\n",
        "proba_supported = hasattr(model.named_steps['clf'], \"predict_proba\")\n",
        "if proba_supported:\n",
        "    probs = model.predict_proba(example_msgs)\n",
        "    for msg, label, pr in zip(example_msgs, preds, probs):\n",
        "        p_spam = pr[list(model.classes_).index('spam')]\n",
        "        print(f\"[{label.upper()}] p(spam)={p_spam:.3f} :: {msg}\")\n",
        "else:\n",
        "    for msg, label in zip(example_msgs, preds):\n",
        "        print(f\"[{label.upper()}] :: {msg}\")"
      ]
    },
    {
      "cell_type": "markdown",
      "id": "f4eb9ca2",
      "metadata": {
        "id": "f4eb9ca2"
      },
      "source": [
        "\n",
        "## 🌟 (Optional) Two quick experiments\n",
        "\n",
        "These are **optional** and safe to skip. They add ~5 minutes if you're curious.\n",
        "\n",
        "### A) Different model\n",
        "Switch `LogisticRegression` to a **LinearSVC** (often strong for text).\n",
        "\n",
        "### B) Minimal preprocessing\n",
        "Try changing `TfidfVectorizer` arguments, e.g., `ngram_range=(1,2)` to include word pairs.\n"
      ]
    },
    {
      "cell_type": "code",
      "execution_count": 8,
      "id": "41472c1c",
      "metadata": {
        "colab": {
          "base_uri": "https://localhost:8080/"
        },
        "id": "41472c1c",
        "outputId": "2908408c-6b6b-486c-a611-e9574f2e45b5"
      },
      "outputs": [
        {
          "output_type": "stream",
          "name": "stdout",
          "text": [
            "Test accuracy with LinearSVC + bigrams: 0.9830\n"
          ]
        }
      ],
      "source": [
        "\n",
        "# === OPTIONAL: Try a different estimator or TF-IDF settings ===\n",
        "# Uncomment to experiment:\n",
        "\n",
        "# from sklearn.svm import LinearSVC\n",
        "# model_alt = Pipeline([\n",
        "#     ('tfidf', TfidfVectorizer(stop_words='english', ngram_range=(1,2))),\n",
        "#     ('clf', LinearSVC())\n",
        "# ])\n",
        "# model_alt.fit(X_train, y_train)\n",
        "# alt_acc = accuracy_score(y_test, model_alt.predict(X_test))\n",
        "# print(f\"Test accuracy with LinearSVC + bigrams: {alt_acc:.4f}\")\n"
      ]
    },
    {
      "cell_type": "markdown",
      "id": "8622e500",
      "metadata": {
        "id": "8622e500"
      },
      "source": [
        "\n",
        "## ✅ What to submit\n",
        "\n",
        "1. **A screenshot** of your accuracy bar chart.\n",
        "2. **Two example messages** you tested and the model's predictions.\n",
        "3. *(Optional)* A short note if you tried the optional experiment and whether accuracy changed.\n",
        "\n",
        "---\n",
        "\n",
        "### 🎯 Learning outcomes (in plain words)\n",
        "- You ran a **complete AI workflow**: load data → train → evaluate → test.\n",
        "- You saw how **text becomes numbers** with TF-IDF.\n",
        "- You connected AI to **security** with a practical spam filter example.\n",
        "\n",
        "> That's it! Great job — you just trained and evaluated a working AI model in minutes.\n"
      ]
    },
    {
      "cell_type": "markdown",
      "source": [
        "# 🧩 Mini Project Reflection — SMS Spam Detector\n"
      ],
      "metadata": {
        "id": "zeU_RziQNKUR"
      },
      "id": "zeU_RziQNKUR"
    },
    {
      "cell_type": "markdown",
      "source": [
        "1. Understanding the purpose\n",
        "\n",
        "👉 What was the main goal of this mini project, and how does it relate to cybersecurity in everyday life?\n",
        "\n",
        "Answer:"
      ],
      "metadata": {
        "id": "KTpnegZZNmmR"
      },
      "id": "KTpnegZZNmmR"
    },
    {
      "cell_type": "markdown",
      "source": [
        "2. Dataset awareness\n",
        "\n",
        "👉 Where did our SMS data come from, and what two types of messages did we train the AI to recognize?\n",
        "\n",
        "Answer:"
      ],
      "metadata": {
        "id": "akvFupiYN2QM"
      },
      "id": "akvFupiYN2QM"
    },
    {
      "cell_type": "markdown",
      "source": [
        "3. The AI pipeline\n",
        "\n",
        "👉 In your own words, what happens when the AI “learns” — what did the model do with the SMS messages during training?\n",
        "\n",
        "Answer:\n"
      ],
      "metadata": {
        "id": "Uqn3wSUBN9CP"
      },
      "id": "Uqn3wSUBN9CP"
    },
    {
      "cell_type": "markdown",
      "source": [
        "4. Real-world connection\n",
        "\n",
        "👉 Can you name one example of where a spam or phishing filter like this might be used in real life (outside this project)?\n",
        "\n",
        "Answer:"
      ],
      "metadata": {
        "id": "3mEgOGGRODJI"
      },
      "id": "3mEgOGGRODJI"
    },
    {
      "cell_type": "markdown",
      "source": [
        "5. Interpreting results\n",
        "\n",
        "👉 When you tested your own messages, how did the AI decide between spam and ham?\n",
        "\n",
        "(What clues in the message might have influenced the AI’s prediction?)\n",
        "\n",
        "Answer:"
      ],
      "metadata": {
        "id": "KDxsMOi8OK7E"
      },
      "id": "KDxsMOi8OK7E"
    },
    {
      "cell_type": "markdown",
      "source": [
        "6. Reflection & curiosity\n",
        "\n",
        "👉 If you could improve this small spam detector, what’s one idea you’d add — maybe using more data, smarter filtering, or catching new types of spam?\n",
        "\n",
        "Answer:"
      ],
      "metadata": {
        "id": "w3JdbmreORYJ"
      },
      "id": "w3JdbmreORYJ"
    }
  ],
  "metadata": {
    "colab": {
      "provenance": []
    },
    "language_info": {
      "name": "python"
    },
    "kernelspec": {
      "name": "python3",
      "display_name": "Python 3"
    }
  },
  "nbformat": 4,
  "nbformat_minor": 5
}